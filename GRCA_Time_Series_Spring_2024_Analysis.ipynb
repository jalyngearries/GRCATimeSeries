{
  "nbformat": 4,
  "nbformat_minor": 0,
  "metadata": {
    "colab": {
      "provenance": [],
      "mount_file_id": "10VC67rBKhIdCPkaXxahF44pRWfL3BwR3",
      "authorship_tag": "ABX9TyNP1V7uQkRxSzucJDq59xPc",
      "include_colab_link": true
    },
    "kernelspec": {
      "name": "python3",
      "display_name": "Python 3"
    },
    "language_info": {
      "name": "python"
    }
  },
  "cells": [
    {
      "cell_type": "markdown",
      "metadata": {
        "id": "view-in-github",
        "colab_type": "text"
      },
      "source": [
        "<a href=\"https://colab.research.google.com/github/jalyngearries/GRCATimeSeries/blob/main/GRCA_Time_Series_Spring_2024_Analysis.ipynb\" target=\"_parent\"><img src=\"https://colab.research.google.com/assets/colab-badge.svg\" alt=\"Open In Colab\"/></a>"
      ]
    },
    {
      "cell_type": "markdown",
      "source": [
        "# Planet Imagery Earth Engine Delivery"
      ],
      "metadata": {
        "id": "3xJh2LCWVvzt"
      }
    },
    {
      "cell_type": "code",
      "source": [
        "## Import the Planet API\n",
        "import planet\n",
        "from planet import Session, DataClient, OrdersClient"
      ],
      "metadata": {
        "id": "iJgkQBHs5N03"
      },
      "execution_count": null,
      "outputs": []
    },
    {
      "cell_type": "code",
      "source": [
        "## Import the Earth Engine API\n",
        "import ee\n",
        "\n",
        "## Importing other packages for ordering and delivery\n",
        "import json\n",
        "import os\n",
        "import pathlib\n",
        "import time\n",
        "import shapely\n",
        "import requests\n",
        "import geopandas as gpd\n",
        "from google.colab import drive\n",
        "import asyncio"
      ],
      "metadata": {
        "id": "t4-fe9Kaedxr"
      },
      "execution_count": null,
      "outputs": []
    },
    {
      "cell_type": "markdown",
      "source": [
        "### Step 1: Authenticate Earth Engine in Python environment"
      ],
      "metadata": {
        "id": "arjDr9t2fyOd"
      }
    },
    {
      "cell_type": "code",
      "source": [
        "## Trigger authentication flow\n",
        "ee.Authenticate()\n",
        "\n",
        "## Initialize the library\n",
        "ee.Initialize(project='ee-jg3648')\n",
        "\n",
        "## (Optional) Mount Google Drive to Colab environment (where my AOIs are stored)\n",
        "drive.mount('/content/gdrive')"
      ],
      "metadata": {
        "id": "-ioRSICtV5wd",
        "colab": {
          "base_uri": "https://localhost:8080/"
        },
        "outputId": "8e7e665c-dc6a-409d-bbff-cfe9732925b1"
      },
      "execution_count": null,
      "outputs": [
        {
          "output_type": "stream",
          "name": "stdout",
          "text": [
            "Mounted at /content/gdrive\n"
          ]
        }
      ]
    },
    {
      "cell_type": "markdown",
      "source": [
        "### Step 2: Authenticate Planet account for Orders API"
      ],
      "metadata": {
        "id": "YE-jHZ3gmDfj"
      }
    },
    {
      "cell_type": "code",
      "source": [
        "## Set up & authenticate session\n",
        "from getpass import getpass\n",
        "from planet import Auth\n",
        "api_key = getpass('Enter your API key:')\n",
        "\n",
        "auth = Auth.from_key(api_key)"
      ],
      "metadata": {
        "colab": {
          "base_uri": "https://localhost:8080/"
        },
        "id": "W3vMzMlfmJh_",
        "outputId": "71a71fbd-2857-4c2c-aff6-4a3a98ab33d3"
      },
      "execution_count": null,
      "outputs": [
        {
          "name": "stdout",
          "output_type": "stream",
          "text": [
            "Enter your API key:··········\n"
          ]
        }
      ]
    },
    {
      "cell_type": "markdown",
      "source": [
        "### Step 3: Define cloud delivery location for images"
      ],
      "metadata": {
        "id": "CPnnw6Gff7qT"
      }
    },
    {
      "cell_type": "code",
      "source": [
        "## Define a cloud delivery configuration object (defining the destination to be GEE)\n",
        "cloud_config = planet.order_request.google_earth_engine(\n",
        "    project='ee-jg3648', collection='C122_collection')\n",
        "\n",
        "## Define delivery configuration\n",
        "delivery_config = planet.order_request.delivery(cloud_config=cloud_config)"
      ],
      "metadata": {
        "id": "NB4Ok8nTeAri"
      },
      "execution_count": null,
      "outputs": []
    },
    {
      "cell_type": "markdown",
      "source": [
        "### Step 4: Define AOI to clip images"
      ],
      "metadata": {
        "id": "P9WdrMrXoPsZ"
      }
    },
    {
      "cell_type": "code",
      "source": [
        "with open(\"/content/gdrive/MyDrive/NAU - PhD INF/Sites/122.8 - 122 Mile Canyon AOI.geojson\") as f:\n",
        "  C122_json = json.load(f)\n",
        "\n",
        "C122_coordinates = C122_json['features'][0]['geometry']['coordinates'][0]\n",
        "\n",
        "print(C122_coordinates)\n"
      ],
      "metadata": {
        "colab": {
          "base_uri": "https://localhost:8080/"
        },
        "id": "4rsy2Lf0DBDW",
        "outputId": "2fdd19fb-046d-487a-fce9-a169f4289e88"
      },
      "execution_count": null,
      "outputs": [
        {
          "output_type": "stream",
          "name": "stdout",
          "text": [
            "[[-112.52124115899994, 36.249611894000054], [-112.52113909699995, 36.23635840700007], [-112.47037120499999, 36.236604132000025], [-112.47046469599996, 36.24985773700007], [-112.52124115899994, 36.249611894000054]]\n"
          ]
        }
      ]
    },
    {
      "cell_type": "code",
      "source": [
        "C122_AOI = {\n",
        "    \"type\":\"Polygon\",\n",
        "    \"coordinates\": [[[-112.52124115899994, 36.249611894000054],\n",
        "                     [-112.52113909699995, 36.23635840700007],\n",
        "                     [-112.47037120499999, 36.236604132000025],\n",
        "                     [-112.47046469599996, 36.24985773700007],\n",
        "                     [-112.52124115899994, 36.249611894000054]]]\n",
        "}"
      ],
      "metadata": {
        "id": "p3dnHuqVFdko"
      },
      "execution_count": null,
      "outputs": []
    },
    {
      "cell_type": "markdown",
      "source": [
        "### Step 5: Define images to order"
      ],
      "metadata": {
        "id": "ioxvph0wL8ko"
      }
    },
    {
      "cell_type": "code",
      "source": [
        "C122_Images = ('20210217_173622_00_2264',\n",
        "                '20210317_173744_48_2233',\n",
        "                '20210416_172946_90_2457',\n",
        "                '20210515_173753_36_2259',\n",
        "                '20210616_172509_84_2449',\n",
        "                '20210711_181710_01_2414',\n",
        "                '20210815_181652_51_2403',\n",
        "                '20210916_173642_82_2262',\n",
        "                '20211015_172756_18_2439',\n",
        "                '20220216_172108_19_2457',\n",
        "                '20220317_172119_88_2442',\n",
        "                '20220415_174952_87_2486',\n",
        "                '20220514_172150_86_2465',\n",
        "                '20220615_171820_30_2453',\n",
        "                '20220716_171716_96_2429',\n",
        "                '20220816_171436_07_2463',\n",
        "                '20220918_175041_55_2438',\n",
        "                '20221017_175032_95_2486',\n",
        "                '20230216_173936_92_2251',\n",
        "                '20230316_171706_04_241f',\n",
        "                '20230417_175654_73_249e',\n",
        "                '20230512_180734_09_2414',\n",
        "                '20230614_171801_36_242b',\n",
        "                '20230715_172220_76_24af',\n",
        "                '20230825_165725_96_2445',\n",
        "                '20230915_180134_51_248e',\n",
        "                '20231015_172436_91_2442',\n",
        "                '20240216_173323_32_2439',\n",
        "                '20240314_173535_82_242d'\n",
        ")\n",
        "image_ids = [image_id for image_id in C122_Images]"
      ],
      "metadata": {
        "id": "ed-KAns7QRRi"
      },
      "execution_count": null,
      "outputs": []
    },
    {
      "cell_type": "markdown",
      "source": [
        "### Step 6: Build your order request"
      ],
      "metadata": {
        "id": "QzbwfBN3uMe5"
      }
    },
    {
      "cell_type": "code",
      "source": [
        "from planet import order_request\n",
        "\n",
        "item_ids = C122_Images\n",
        "\n",
        "products = [\n",
        "    order_request.product(item_ids, 'analytic_udm2', 'PSScene')\n",
        "]\n",
        "\n",
        "tools = [\n",
        "    order_request.reproject_tool(projection='EPSG:4326', kernel='cubic'),\n",
        "    order_request.clip_tool(C122_AOI)\n",
        "]\n",
        "C122_request = order_request.build_request(\n",
        "    '122 Images', products=products, tools=tools, delivery=delivery_config,\n",
        ")"
      ],
      "metadata": {
        "id": "eNLrksjB-cUr"
      },
      "execution_count": null,
      "outputs": []
    },
    {
      "cell_type": "markdown",
      "source": [
        "### Step 7: Create order request"
      ],
      "metadata": {
        "id": "gQOSg75w_YQ4"
      }
    },
    {
      "cell_type": "code",
      "source": [
        "from planet import Session, OrdersClient\n",
        "\n",
        "# an async Orders client to request order creation\n",
        "async def main():\n",
        "  async with Session(auth=auth) as sess:\n",
        "    cl = OrdersClient(sess)\n",
        "    order = await cl.create_order(C122_request)\n",
        "\n",
        "# async magic to remember: \"async def\" to create a coroutine, then \"await\" to make it run\n",
        "await main()"
      ],
      "metadata": {
        "id": "Bzsb54Ts_XAw"
      },
      "execution_count": null,
      "outputs": []
    }
  ]
}